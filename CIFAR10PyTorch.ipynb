{
 "cells": [
  {
   "cell_type": "markdown",
   "id": "073a7575",
   "metadata": {},
   "source": [
    "## Environment Setup\n",
    "Let's first setup our environment\n",
    "- Install all required libraries\n",
    "- Initialise some constants\n",
    "- Import the CIFAR10 dataset (in my case I already have it installed)\n",
    "The CIFAR10 dataset is images so we have to apply a transform to turn the images into tensors"
   ]
  },
  {
   "cell_type": "code",
   "execution_count": 37,
   "id": "f5d8c57f",
   "metadata": {},
   "outputs": [],
   "source": [
    "import torch\n",
    "import torch.nn as nn\n",
    "import torchvision\n",
    "from torch.utils.data.dataloader import DataLoader\n",
    "\n",
    "NUM_CLASSES = 10\n",
    "BATCH_SIZE = 256\n",
    "IMAGE_DIM = 32\n",
    "NUM_CHANNELS = 3\n",
    "KERNEL_SIZE = 2\n",
    "\n",
    "transform = torchvision.transforms.Compose([torchvision.transforms.ToTensor()])\n",
    "training_dataset = torchvision.datasets.CIFAR10('./data', train=True, transform=transform)\n",
    "testing_dataset = torchvision.datasets.CIFAR10('./data', train=False, transform=transform)"
   ]
  },
  {
   "cell_type": "markdown",
   "id": "10f25cc4",
   "metadata": {},
   "source": [
    "## Setting up the Network Class\n",
    "Now onto the main part: Defining our network class\n",
    "I like to encapsulate and abstract everything into classes so I decided to keep everything (including the training loop) in the network class. "
   ]
  },
  {
   "cell_type": "code",
   "execution_count": 38,
   "id": "a34aed05",
   "metadata": {},
   "outputs": [],
   "source": [
    "class Network(nn.Module):\n",
    "    def __init__(self):\n",
    "        super().__init__()\n",
    "        #Define Layers\n",
    "        self.dim = 2\n",
    "        self.network = nn.Sequential(\n",
    "            nn.Conv2d(3, 3, self.dim, self.dim),\n",
    "            nn.MaxPool2d(self.dim, self.dim),\n",
    "            nn.Flatten(),\n",
    "            nn.Linear(((IMAGE_DIM // (self.dim * 2))**2) * NUM_CHANNELS, NUM_CLASSES),\n",
    "            nn.Softmax(-1)\n",
    "        )\n",
    "        self.training_losses = []\n",
    "        self.validation_losses = []\n",
    "    \n",
    "    def __forward(self, input):\n",
    "        output = self.network.forward(input)\n",
    "        return output\n",
    "\n",
    "    def __accuracy(self, testing_data_loader):\n",
    "        #Get accuracy on test dataset (just percentage of correct responses)\n",
    "        for idx, batch in enumerate(testing_data_loader):\n",
    "            correct = 0\n",
    "            total = 0\n",
    "            inputs, labels = batch\n",
    "            preds = self.__forward(inputs)\n",
    "            for pred, label in zip(preds, labels):\n",
    "                if torch.argmax(pred) == label:\n",
    "                    correct += 1\n",
    "                total += 1\n",
    "            return (100 * correct / total)\n",
    "        \n",
    "    def predict(self, input):\n",
    "        return(self.__forward(input))\n",
    "    \n",
    "    def train_network(self, training_data_loader, testing_data_loader, epochs, lr, device=\"cpu\"):\n",
    "\n",
    "        optimizer = torch.optim.Adam(self.parameters(), lr=lr)\n",
    "        loss_fn = nn.CrossEntropyLoss()\n",
    "\n",
    "        #Iterate for epochs\n",
    "        for epoch in range(epochs):\n",
    "            print(f\"Epoch Number {epoch}\")\n",
    "\n",
    "            #Set model in train mode\n",
    "            self.train()\n",
    "\n",
    "            total_loss = 0\n",
    "            #Go through every loss\n",
    "            for idx, batch in enumerate(training_data_loader):\n",
    "                #Reset gradients\n",
    "                optimizer.zero_grad()\n",
    "\n",
    "                inputs, labels = batch\n",
    "                inputs = inputs.to(device).to(torch.float32)\n",
    "                labels = labels.to(device)\n",
    "                \n",
    "                #Get predictions and calculate loss\n",
    "                preds = self.__forward(inputs)\n",
    "                loss = loss_fn(preds, labels)\n",
    "\n",
    "                #Calculate loss gradients by backpropagating\n",
    "                loss.backward()\n",
    "\n",
    "                #Update model weights and biases\n",
    "                optimizer.step()\n",
    "\n",
    "                total_loss += loss.item()\n",
    "            #Get validation loss\n",
    "            self.eval()\n",
    "            val_input, val_target = next(iter(test_data_loader))\n",
    "            val_output = self.__forward(val_input)\n",
    "            val_loss = loss_fn(val_output, val_target)\n",
    "            print(f\"Loss: {round((total_loss/BATCH_SIZE), 2)}  Val Loss: {round(val_loss.item(), 2)}\")\n",
    "            \n",
    "            #Get and print accuracy\n",
    "            accuracy = self.__accuracy(testing_data_loader)\n",
    "            print(f\"Accuracy {round(accuracy, 2)}\")\n",
    "            \n",
    "            #Append val and train loss to list to use to plot later\n",
    "            self.training_losses.append(total_loss/BATCH_SIZE)\n",
    "            self.validation_losses.append(val_loss.item())\n"
   ]
  },
  {
   "cell_type": "markdown",
   "id": "a25d6370",
   "metadata": {},
   "source": [
    "## Dataloaders :)\n",
    "Create PyTorch dataloaders from our train and test datasets. The dataloaders make it so much easier to handle batches."
   ]
  },
  {
   "cell_type": "code",
   "execution_count": 39,
   "id": "fb9278b3",
   "metadata": {},
   "outputs": [],
   "source": [
    "TEST_DATASET_LEN = 10000\n",
    "\n",
    "train_data_loader = DataLoader(training_dataset, BATCH_SIZE, True)\n",
    "test_data_loader = DataLoader(testing_dataset, TEST_DATASET_LEN, False)"
   ]
  },
  {
   "cell_type": "markdown",
   "id": "c1b8befc",
   "metadata": {},
   "source": [
    "## Start Training!\n",
    "We can declare an instance of our network and begin training with just one line of code"
   ]
  },
  {
   "cell_type": "code",
   "execution_count": 42,
   "id": "a921ccb2",
   "metadata": {},
   "outputs": [
    {
     "name": "stdout",
     "output_type": "stream",
     "text": [
      "Epoch Number 0\n",
      "Loss: 1.71  Val Loss: 2.16\n",
      "Accuracy 33.84\n",
      "Epoch Number 1\n",
      "Loss: 1.63  Val Loss: 2.11\n",
      "Accuracy 36.29\n",
      "Epoch Number 2\n",
      "Loss: 1.61  Val Loss: 2.09\n",
      "Accuracy 37.65\n",
      "Epoch Number 3\n",
      "Loss: 1.6  Val Loss: 2.08\n",
      "Accuracy 38.45\n",
      "Epoch Number 4\n",
      "Loss: 1.59  Val Loss: 2.08\n",
      "Accuracy 38.83\n",
      "Epoch Number 5\n",
      "Loss: 1.59  Val Loss: 2.07\n",
      "Accuracy 39.61\n",
      "Epoch Number 6\n",
      "Loss: 1.58  Val Loss: 2.06\n",
      "Accuracy 40.0\n",
      "Epoch Number 7\n",
      "Loss: 1.58  Val Loss: 2.06\n",
      "Accuracy 40.5\n",
      "Epoch Number 8\n",
      "Loss: 1.58  Val Loss: 2.05\n",
      "Accuracy 41.09\n",
      "Epoch Number 9\n",
      "Loss: 1.57  Val Loss: 2.05\n",
      "Accuracy 41.88\n"
     ]
    }
   ],
   "source": [
    "EPOCHS = 10\n",
    "LEARNING_RATE = 1e-3\n",
    "\n",
    "device = \"cuda\" if torch.cuda.is_available() else \"cpu\"\n",
    "    \n",
    "cnn_network = Network().to(device)\n",
    "cnn_network.train_network(train_data_loader, test_data_loader, EPOCHS, LEARNING_RATE, device)"
   ]
  },
  {
   "cell_type": "markdown",
   "id": "61ea2722",
   "metadata": {},
   "source": [
    "## Part 2: Visualization\n",
    "Let's import pyplot from matplotlib and visualize our training and validation losses over epochs"
   ]
  },
  {
   "cell_type": "code",
   "execution_count": 35,
   "id": "4232310f",
   "metadata": {},
   "outputs": [
    {
     "data": {
      "image/png": "[encoded data removed]",
      "text/plain": [
       "<Figure size 640x480 with 1 Axes>"
      ]
     },
     "metadata": {},
     "output_type": "display_data"
    }
   ],
   "source": [
    "import matplotlib.pyplot as plt\n",
    "import numpy as np\n",
    "\n",
    "plt.plot(cnn_network.training_losses, np.arange(EPOCHS), label=\"Training Loss\")\n",
    "plt.plot(cnn_network.validation_losses, np.arange(EPOCHS), label=\"Validation Loss\")\n",
    "plt.legend(loc=\"upper right\")\n",
    "plt.show()"
   ]
  },
  {
   "cell_type": "markdown",
   "id": "53a7c0cc",
   "metadata": {},
   "source": [
    "# That's It!!\n",
    "More Possible Steps\n",
    "- Optimizer Hyperparameters (epochs, batchsize, learning rate)\n",
    "- Change layer parameters (change kernel or size for conv layer)\n",
    "- Change Newtork Architecture (Add conv layers or linear layers)"
   ]
  },
  {
   "cell_type": "code",
   "execution_count": null,
   "id": "f67a1cc2",
   "metadata": {},
   "outputs": [],
   "source": []
  }
 ],
 "metadata": {
  "kernelspec": {
   "display_name": "Python 3 (ipykernel)",
   "language": "python",
   "name": "python3"
  },
  "language_info": {
   "codemirror_mode": {
    "name": "ipython",
    "version": 3
   },
   "file_extension": ".py",
   "mimetype": "text/x-python",
   "name": "python",
   "nbconvert_exporter": "python",
   "pygments_lexer": "ipython3",
   "version": "3.10.8"
  }
 },
 "nbformat": 4,
 "nbformat_minor": 5
}
